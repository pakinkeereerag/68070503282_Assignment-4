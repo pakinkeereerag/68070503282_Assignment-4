{
 "cells": [
  {
   "cell_type": "code",
   "execution_count": null,
   "id": "8e6d7b83",
   "metadata": {},
   "outputs": [],
   "source": []
  },
  {
   "cell_type": "markdown",
   "id": "b1ea7d82",
   "metadata": {},
   "source": [
    "# Even and Odd\n",
    "itrate for loop from number 1 to n:\n",
    "    if the number is even\"print \"[number] is even\"\n",
    "    otherwise, print \"[number] is odd:\n",
    "\n",
    "    if n=5 ==. excepted output\n",
    "    0 is even.\n",
    "    1 is odd\n",
    "    2 is even.\n",
    "    3 is odd\n",
    "    4 is even."
   ]
  },
  {
   "cell_type": "code",
   "execution_count": 13,
   "id": "52437b68",
   "metadata": {},
   "outputs": [
    {
     "name": "stdout",
     "output_type": "stream",
     "text": [
      "0 even\n",
      "1 odd\n",
      "2 even\n",
      "3 odd\n",
      "4 even\n"
     ]
    }
   ],
   "source": [
    "n=5\n",
    "for i in range(0,n):\n",
    "    if i % 2==0:\n",
    "        print (i,\"even\") \n",
    "    else:\n",
    "        print (i,\"odd\")\n",
    " "
   ]
  },
  {
   "cell_type": "code",
   "execution_count": 25,
   "id": "e154d9bc",
   "metadata": {},
   "outputs": [
    {
     "name": "stdout",
     "output_type": "stream",
     "text": [
      "The result is large\n",
      "The result is large\n",
      "The result is large\n",
      "The result is large\n",
      "The result is large\n",
      "The result is large\n",
      "The result is large\n",
      "The result is large\n",
      "The result is large\n",
      "The result is large\n"
     ]
    }
   ],
   "source": [
    "n = 100\n",
    "\n",
    "for i in range(1,11):\n",
    "    quotient = n/i\n",
    "    if quotient > 5:\n",
    "        print(\"The result is large\")\n",
    "    elif quotient == 6:\n",
    "        continue\n",
    "    else:\n",
    "        print(\"quotient =\", quotient)\n"
   ]
  },
  {
   "cell_type": "code",
   "execution_count": 56,
   "id": "71a3392c",
   "metadata": {},
   "outputs": [
    {
     "name": "stdout",
     "output_type": "stream",
     "text": [
      "Login succesful\n"
     ]
    }
   ],
   "source": [
    "credentials = {\"Pakin07\": \"789789\",\n",
    "    \"Admin\": \"adminpass\",\n",
    "    \"Guest\": \"guest123\"}\n",
    "\n",
    "username = input(\"Enter username: \")\n",
    "password = input(\"Enter password: \")\n",
    "\n",
    "if username in credentials:\n",
    "    if credentials[username]== password:\n",
    "      print(\"Login succesful\")\n",
    "    else:\n",
    "        print(\"Incorrect password\")\n",
    "else:\n",
    "   print(\"User not found\")"
   ]
  },
  {
   "cell_type": "code",
   "execution_count": 46,
   "id": "66725d23",
   "metadata": {},
   "outputs": [
    {
     "name": "stdout",
     "output_type": "stream",
     "text": [
      "* * * * * \n",
      "* * * * * \n",
      "* * * * * \n",
      "* * * * * \n",
      "* * * * * \n"
     ]
    }
   ],
   "source": [
    "stars =5\n",
    "rows =5\n",
    "for i in range(1,rows+1):\n",
    "    for j in range(1,stars+1):\n",
    "        print(\"*\", end=\" \")\n",
    "    print() # Newline"
   ]
  },
  {
   "cell_type": "code",
   "execution_count": 59,
   "id": "53a4efa2",
   "metadata": {},
   "outputs": [
    {
     "name": "stdout",
     "output_type": "stream",
     "text": [
      "Limit reached.You cannot buy anymore.\n"
     ]
    }
   ],
   "source": [
    "total_bill=0\n",
    "\n",
    "while total_bill<=1000:\n",
    "    price = float(input(\"Enter item price of the item\"))\n",
    "    total_bill += price\n",
    "\n",
    "    if total_bill >+ 1000:\n",
    "            print(\"Limit reached.You cannot buy anymore.\")\n",
    "            break\n",
    "    else:\n",
    "          print(f\"Current total: {total_bill}\")"
   ]
  }
 ],
 "metadata": {
  "kernelspec": {
   "display_name": "Python 3",
   "language": "python",
   "name": "python3"
  },
  "language_info": {
   "codemirror_mode": {
    "name": "ipython",
    "version": 3
   },
   "file_extension": ".py",
   "mimetype": "text/x-python",
   "name": "python",
   "nbconvert_exporter": "python",
   "pygments_lexer": "ipython3",
   "version": "3.12.6"
  }
 },
 "nbformat": 4,
 "nbformat_minor": 5
}
